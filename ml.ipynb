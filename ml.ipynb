{
 "cells": [
  {
   "cell_type": "code",
   "execution_count": null,
   "metadata": {},
   "outputs": [],
   "source": [
    "import math\n",
    "import pandas as pd\n",
    "import numpy as np\n",
    "import datetime as dt\n",
    "import matplotlib.pyplot as plt\n",
    "%matplotlib inline\n",
    "from matplotlib import style\n",
    "import seaborn as sns\n",
    "from scipy.stats import randint as sp_randint\n",
    "\n",
    "from sklearn.decomposition import PCA"
   ]
  },
  {
   "cell_type": "code",
   "execution_count": null,
   "metadata": {},
   "outputs": [],
   "source": [
    "style.use(\"ggplot\")"
   ]
  },
  {
   "cell_type": "code",
   "execution_count": null,
   "metadata": {},
   "outputs": [],
   "source": [
    "# loading the data\n",
    "df = pd.read_csv('DJIA_adjcloses.csv', parse_dates=True, index_col=0)\n",
    "\n",
    "# Visualizing the dataframe\n",
    "#print(df.head())"
   ]
  },
  {
   "cell_type": "code",
   "execution_count": null,
   "metadata": {},
   "outputs": [],
   "source": [
    "# print(f\"dow chemicals: {df['DWDP'].head()}\")\n",
    "# print(f\"visa: {df['V'].head()}\") # NaN values \n",
    "\n",
    "# remove NaN values from DWDP and V columns\n",
    "df.dropna(inplace=True)\n",
    "\n",
    "# Dropping 'Not a Number' columns for Dow Chemicals (DWDP) and Visa (V)\n",
    "df.drop(['DOW', 'V'], axis=1, inplace=True)\n",
    "df.drop(['SPY'], inplace=True, axis=1)\n",
    "# Copying the dataframe to add features\n",
    "data = pd.DataFrame(df.copy())\n",
    "print(data.columns)"
   ]
  },
  {
   "cell_type": "code",
   "execution_count": null,
   "metadata": {},
   "outputs": [],
   "source": [
    "# Daily Returns\n",
    "# Daily Log Returns (%)\n",
    "# datareturns = np.log(data / data.shift(1)) \n",
    "\n",
    "# Daily Linear Returns (%)\n",
    "datareturns = data.pct_change(1)"
   ]
  },
  {
   "cell_type": "code",
   "execution_count": null,
   "metadata": {},
   "outputs": [],
   "source": [
    "# Data Raw\n",
    "data_raw = datareturns\n",
    "data_raw.dropna(how='all', inplace=True)"
   ]
  },
  {
   "cell_type": "code",
   "execution_count": null,
   "metadata": {},
   "outputs": [],
   "source": [
    "# Normalizing the Log returns\n",
    "data = (data_raw - data_raw.mean()) / data_raw.std()\n",
    "\n",
    "# Getting rid of the NaN values.\n",
    "data.dropna(how='any', inplace=True)\n",
    "data_raw.dropna(how='any', inplace=True)"
   ]
  },
  {
   "cell_type": "code",
   "execution_count": null,
   "metadata": {},
   "outputs": [],
   "source": [
    "# Visualizing Log Returns for the DJIA \n",
    "plt.figure(figsize=(16, 5))\n",
    "plt.title(\"Dow Jones Industrial Average Linear Returns (%)\")\n",
    "data.DIA.plot()\n",
    "plt.grid(True);\n",
    "plt.legend()\n",
    "plt.show()"
   ]
  },
  {
   "cell_type": "code",
   "execution_count": null,
   "metadata": {},
   "outputs": [],
   "source": [
    "# Taking away the market benchmark DJIA\n",
    "stock_tickers = data.columns.values[:-1]\n",
    "n_tickers = len(stock_tickers)"
   ]
  },
  {
   "cell_type": "code",
   "execution_count": null,
   "metadata": {},
   "outputs": [],
   "source": [
    "# Dividing the dataset into training and testing sets\n",
    "percentage = int(len(data) * 0.8)\n",
    "X_train = data[:percentage]\n",
    "X_test = data[percentage:]\n",
    "\n",
    "X_train_raw = data_raw[:percentage]\n",
    "X_test_raw = data_raw[percentage:]"
   ]
  },
  {
   "cell_type": "code",
   "execution_count": null,
   "metadata": {},
   "outputs": [],
   "source": [
    "# Applying Principle Component Analysis\n",
    "# Creating covariance matrix and training data on PCA.\n",
    "cov_matrix = X_train.loc[:,X_train.columns != 'DIA'].cov()\n",
    "pca = PCA()\n",
    "pca.fit(cov_matrix)"
   ]
  },
  {
   "cell_type": "code",
   "execution_count": null,
   "metadata": {},
   "outputs": [],
   "source": [
    "def plotPCA(plot=False):\n",
    "\n",
    "    # Visualizing Variance against number of principal components.\n",
    "    cov_matrix_raw = X_train_raw.loc[:,X_train_raw.columns != 'DIA'].cov()\n",
    "\n",
    "    var_threshold = 0.95\n",
    "    var_explained = np.cumsum(pca.explained_variance_ratio_)\n",
    "    num_comp = np.where(np.logical_not(var_explained < var_threshold))[0][0] + 1  \n",
    "\n",
    "    if plot:\n",
    "        print('%d principal components explain %.2f%% of variance' %(num_comp, 100* var_threshold))\n",
    "\n",
    "        # PCA percent variance explained.\n",
    "        bar_width = 0.9\n",
    "        n_asset = stock_tickers.shape[0]\n",
    "        x_indx = np.arange(n_asset)\n",
    "        fig, ax = plt.subplots()\n",
    "\n",
    "        # Eigenvalues measured as percentage of explained variance.\n",
    "        rects = ax.bar(x_indx, pca.explained_variance_ratio_[:n_asset], bar_width)\n",
    "        ax.set_xticks(x_indx + bar_width / 2)\n",
    "        ax.set_xticklabels(list(range(n_asset)), rotation=45)\n",
    "        ax.set_title('Percent variance explained')\n",
    "        ax.set_ylabel('Explained Variance')\n",
    "        ax.set_xlabel('Principal Components')\n",
    "        plt.show()\n",
    "\n",
    "plotPCA(plot=True)"
   ]
  },
  {
   "cell_type": "code",
   "execution_count": null,
   "metadata": {},
   "outputs": [],
   "source": [
    "projected = pca.fit_transform(cov_matrix)\n",
    "pcs = pca.components_"
   ]
  },
  {
   "cell_type": "code",
   "execution_count": null,
   "metadata": {},
   "outputs": [],
   "source": [
    "# Sharpe Ratio\n",
    "def sharpe_ratio(ts_returns, periods_per_year=252):\n",
    "    '''\n",
    "    Sharpe ratio is the average return earned in excess of the risk-free rate per unit of volatility or total risk.\n",
    "    It calculares the annualized return, annualized volatility, and annualized sharpe ratio.\n",
    "    \n",
    "    ts_returns are  returns of a signle eigen portfolio.\n",
    "    '''\n",
    "    n_years = ts_returns.shape[0]/periods_per_year\n",
    "    annualized_return = np.power(np.prod(1+ts_returns),(1/n_years))-1\n",
    "    annualized_vol = ts_returns.std() * np.sqrt(periods_per_year)\n",
    "    annualized_sharpe = annualized_return / annualized_vol\n",
    "\n",
    "    return annualized_return, annualized_vol, annualized_sharpe"
   ]
  },
  {
   "cell_type": "code",
   "execution_count": null,
   "metadata": {},
   "outputs": [],
   "source": [
    "def optimizedPortfolio():\n",
    "    n_portfolios = len(pcs)\n",
    "    annualized_ret = np.array([0.] * n_portfolios)\n",
    "    sharpe_metric = np.array([0.] * n_portfolios)\n",
    "    annualized_vol = np.array([0.] * n_portfolios)\n",
    "    highest_sharpe = 0 \n",
    "\n",
    "    for i in range(n_portfolios):\n",
    "        \n",
    "        pc_w = pcs[:, i] / sum(pcs[:, i])\n",
    "        eigen_prtfi = pd.DataFrame(data ={'weights': pc_w.squeeze()*100}, index = stock_tickers)\n",
    "        eigen_prtfi.sort_values(by=['weights'], ascending=False, inplace=True)\n",
    "        \n",
    "        eigen_prti_returns = np.dot(X_test_raw.loc[:, eigen_prtfi.index], eigen_prtfi / n_portfolios)\n",
    "        eigen_prti_returns = pd.Series(eigen_prti_returns.squeeze(), index=X_test.index)\n",
    "        er, vol, sharpe = sharpe_ratio(eigen_prti_returns)\n",
    "        annualized_ret[i] = er\n",
    "        annualized_vol[i] = vol\n",
    "        sharpe_metric[i] = sharpe\n",
    "\n",
    "    # find portfolio with the highest Sharpe ratio\n",
    "    highest_sharpe = np.argmax(sharpe_metric)\n",
    "\n",
    "    print('Eigen portfolio #%d with the highest Sharpe. Return %.2f%%, vol = %.2f%%, Sharpe = %.2f' % \n",
    "          (highest_sharpe,\n",
    "           annualized_ret[highest_sharpe]*100, \n",
    "           annualized_vol[highest_sharpe]*100, \n",
    "           sharpe_metric[highest_sharpe]))\n",
    "\n",
    "\n",
    "    fig, ax = plt.subplots()\n",
    "    fig.set_size_inches(12, 4)\n",
    "    ax.plot(sharpe_metric, linewidth=3)\n",
    "    ax.set_title('Sharpe ratio of eigen-portfolios')\n",
    "    ax.set_ylabel('Sharpe ratio')\n",
    "    ax.set_xlabel('Portfolios')\n",
    "\n",
    "    results = pd.DataFrame(data={'Return': annualized_ret, 'Vol': annualized_vol, 'Sharpe': sharpe_metric})\n",
    "    results.dropna(inplace=True)\n",
    "    results.sort_values(by=['Sharpe'], ascending=False, inplace=True)\n",
    "    #print(results.head(10))\n",
    "\n",
    "    plt.show()\n",
    "\n",
    "optimizedPortfolio()"
   ]
  },
  {
   "cell_type": "code",
   "execution_count": null,
   "metadata": {},
   "outputs": [],
   "source": [
    "def PCWeights():\n",
    "    '''\n",
    "    Principal Components (PC) weights for each 28 PCs\n",
    "    '''\n",
    "    weights = pd.DataFrame()\n",
    "\n",
    "    for i in range(len(pcs)):\n",
    "        weights[\"weights_{}\".format(i)] = pcs[:, i] / sum(pcs[:, i])\n",
    "\n",
    "    weights = weights.values.T\n",
    "    return weights\n",
    "\n",
    "weights = PCWeights()\n",
    "portfolio = portfolio = pd.DataFrame()\n",
    "\n",
    "def plotEigen(weights, plot=False, portfolio=portfolio):\n",
    "    portfolio = pd.DataFrame(data ={'weights': weights.squeeze()*100}, index = stock_tickers) \n",
    "    portfolio.sort_values(by=['weights'], ascending=False, inplace=True)\n",
    "    \n",
    "    if plot:\n",
    "        print('Sum of weights of current eigen-portfolio: %.2f' % np.sum(portfolio))\n",
    "        portfolio.plot(title='Current Eigen-Portfolio Weights', \n",
    "            figsize=(12,6), \n",
    "            xticks=range(0, len(stock_tickers),1), \n",
    "            rot=45, \n",
    "            linewidth=3\n",
    "            )\n",
    "        plt.show()\n",
    "\n",
    "    return portfolio\n",
    "\n",
    "# Weights are stored in arrays, where 0 is the first PC's weights.\n",
    "plotEigen(weights=weights[4], plot=True)"
   ]
  },
  {
   "cell_type": "code",
   "execution_count": null,
   "metadata": {},
   "outputs": [],
   "source": [
    "def plotSharpe(eigen):\n",
    "\n",
    "    '''\n",
    "\n",
    "    Plots Principle components returns against real returns.\n",
    "    \n",
    "    '''\n",
    "\n",
    "    eigen_portfolio_returns = np.dot(X_test_raw.loc[:, eigen.index], eigen / len(pcs))\n",
    "    eigen_portfolio_returns = pd.Series(eigen_portfolio_returns.squeeze(), index=X_test.index)\n",
    "    returns, vol, sharpe = sharpe_ratio(eigen_portfolio_returns)\n",
    "    print('Current Eigen-Portfolio:\\nReturn = %.2f%%\\nVolatility = %.2f%%\\nSharpe = %.2f' % (returns*100, vol*100, sharpe))\n",
    "    year_frac = (eigen_portfolio_returns.index[-1] - eigen_portfolio_returns.index[0]).days / 252\n",
    "\n",
    "    df_plot = pd.DataFrame({'PC': eigen_portfolio_returns, 'DIA': X_test_raw.loc[:, 'DIA']}, index=X_test.index)\n",
    "    np.cumprod(df_plot + 1).plot(title='Returns of the market-cap weighted index vs. First eigen-portfolio', \n",
    "                             figsize=(12,6), linewidth=3)\n",
    "    plt.show()\n",
    "\n",
    "plotSharpe(eigen=plotEigen(weights=weights[4]))"
   ]
  },
  {
   "cell_type": "code",
   "execution_count": null,
   "metadata": {},
   "outputs": [],
   "source": []
  }
 ],
 "metadata": {
  "celltoolbar": "Tags",
  "kernelspec": {
   "display_name": "Eigen-Portfolio-4pNdkvCn",
   "language": "python",
   "name": "python3"
  },
  "language_info": {
   "codemirror_mode": {
    "name": "ipython",
    "version": 3
   },
   "file_extension": ".py",
   "mimetype": "text/x-python",
   "name": "python",
   "nbconvert_exporter": "python",
   "pygments_lexer": "ipython3",
   "version": "3.10.6"
  },
  "vscode": {
   "interpreter": {
    "hash": "2f924d061b96c5b77f783c830a509945d95ec4018972828647ff4a904f1d7a65"
   }
  }
 },
 "nbformat": 4,
 "nbformat_minor": 2
}
